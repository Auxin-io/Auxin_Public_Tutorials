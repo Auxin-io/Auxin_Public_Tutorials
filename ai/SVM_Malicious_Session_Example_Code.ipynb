{
  "nbformat": 4,
  "nbformat_minor": 0,
  "metadata": {
    "colab": {
      "provenance": []
    },
    "kernelspec": {
      "name": "python3",
      "display_name": "Python 3"
    },
    "language_info": {
      "name": "python"
    }
  },
  "cells": [
    {
      "cell_type": "code",
      "execution_count": null,
      "metadata": {
        "id": "nifJbCTdvoDO"
      },
      "outputs": [],
      "source": [
        "import numpy as np\n",
        "import matplotlib.pyplot as plt\n",
        "from sklearn import svm\n",
        "from sklearn.preprocessing import StandardScaler\n",
        "\n",
        "# 1.Synthetic cybersecurity dataset\n",
        "# Columns: [Duration, Bytes Sent, Packets/sec, Login Attempt, Failed Connections]\n",
        "X = np.array([\n",
        "    [30, 2048, 12, 1, 0],\n",
        "    [5, 1024, 50, 0, 10],\n",
        "    [120, 50000, 200, 0, 0],\n",
        "    [2, 300, 10, 1, 0],\n",
        "    [3, 500, 45, 0, 7],\n",
        "    [20, 1000, 15, 1, 0],\n",
        "    [6, 700, 30, 0, 6],\n",
        "    [25, 2048, 18, 1, 0],\n",
        "    [4, 350, 60, 0, 9],\n",
        "    [1, 150, 75, 0, 12],\n",
        "    [60, 4096, 90, 0, 1],\n",
        "    [10, 1000, 25, 1, 0],\n",
        "    [8, 800, 20, 1, 1],\n",
        "    [7, 750, 35, 0, 5],\n",
        "    [40, 6000, 160, 0, 0],\n",
        "    [15, 1500, 12, 1, 0],\n",
        "    [12, 900, 22, 1, 1],\n",
        "    [3, 400, 55, 0, 8],\n",
        "    [90, 10000, 180, 0, 0],\n",
        "    [2, 250, 65, 0, 10],\n",
        "])\n",
        "\n",
        "# Labels: 0 = benign, 1 = malicious\n",
        "y = np.array([\n",
        "    0, 1, 1, 0, 1, 0, 1,\n",
        "    0, 1, 1, 1, 0, 0, 1,\n",
        "    1, 0, 0, 1, 1, 1\n",
        "])\n",
        "\n",
        "# 2. Select 2 features for plotting: Packets/sec (index 2), Failed Connections (index 4)\n",
        "X_vis = X[:, [2, 4]]\n",
        "scaler = StandardScaler()\n",
        "X_vis_scaled = scaler.fit_transform(X_vis)\n",
        "\n",
        "# 3. Train SVM\n",
        "model = svm.SVC(kernel='rbf', C=1.0, gamma='scale')\n",
        "model.fit(X_vis_scaled, y)\n",
        "\n",
        "# 4. Create mesh grid for decision boundary\n",
        "x_min, x_max = X_vis_scaled[:, 0].min() - 1, X_vis_scaled[:, 0].max() + 1\n",
        "y_min, y_max = X_vis_scaled[:, 1].min() - 1, X_vis_scaled[:, 1].max() + 1\n",
        "xx, yy = np.meshgrid(np.linspace(x_min, x_max, 500),\n",
        "                     np.linspace(y_min, y_max, 500))\n",
        "\n",
        "Z = model.predict(np.c_[xx.ravel(), yy.ravel()])\n",
        "Z = Z.reshape(xx.shape)\n",
        "\n",
        "# 5. Plot\n",
        "plt.figure(figsize=(10, 6))\n",
        "plt.contourf(xx, yy, Z, cmap=plt.cm.RdBu, alpha=0.3)\n",
        "scatter = plt.scatter(X_vis_scaled[:, 0], X_vis_scaled[:, 1], c=y, cmap=plt.cm.RdBu, edgecolors='k')\n",
        "\n",
        "plt.xlabel(\"Packets/sec (scaled)\")\n",
        "plt.ylabel(\"Failed Connections (scaled)\")\n",
        "plt.title(\"SVM Classification of Cyber Sessions: Benign vs. Malicious\")\n",
        "plt.grid(True)\n",
        "plt.show()"
      ]
    }
  ]
}
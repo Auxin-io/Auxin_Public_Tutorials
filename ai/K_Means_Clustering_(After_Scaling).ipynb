{
  "nbformat": 4,
  "nbformat_minor": 0,
  "metadata": {
    "colab": {
      "provenance": []
    },
    "kernelspec": {
      "name": "python3",
      "display_name": "Python 3"
    },
    "language_info": {
      "name": "python"
    }
  },
  "cells": [
    {
      "cell_type": "code",
      "execution_count": null,
      "metadata": {
        "id": "rMc6M5rTOyzW"
      },
      "outputs": [],
      "source": [
        "import pandas as pd\n",
        "import numpy as np\n",
        "from sklearn.cluster import KMeans\n",
        "from sklearn.preprocessing import StandardScaler\n",
        "import matplotlib.pyplot as plt\n",
        "import seaborn as sns\n",
        "\n",
        "# Load dataset\n",
        "df = pd.read_csv(\"synthetic_cyber_dataset.csv\")\n",
        "\n",
        "# Clip negatives (optional)\n",
        "df[\"login_attempts\"] = df[\"login_attempts\"].clip(lower=0)\n",
        "df[\"src_bytes\"] = df[\"src_bytes\"].clip(lower=0)\n",
        "\n",
        "# Scale features\n",
        "features = df[[\"login_attempts\", \"src_bytes\"]]\n",
        "scaler = StandardScaler()\n",
        "X_scaled = scaler.fit_transform(features)\n",
        "\n",
        "# Run K-Means\n",
        "kmeans = KMeans(n_clusters=2, random_state=42)\n",
        "df[\"cluster\"] = kmeans.fit_predict(X_scaled)\n",
        "\n",
        "# Decide which cluster is \"malicious\" vs \"normal\" based on centroid positions\n",
        "centroids = kmeans.cluster_centers_\n",
        "if centroids[0][0] > centroids[1][0]:  # higher login_attempts = likely malicious\n",
        "    label_map = {0: \"malicious\", 1: \"normal\"}\n",
        "else:\n",
        "    label_map = {0: \"normal\", 1: \"malicious\"}\n",
        "\n",
        "# Map numeric cluster labels to names\n",
        "df[\"cluster_label\"] = df[\"cluster\"].map(label_map)\n",
        "\n",
        "# Plot using renamed cluster labels\n",
        "plt.figure(figsize=(10, 6))\n",
        "sns.scatterplot(\n",
        "    x=df[\"login_attempts\"],\n",
        "    y=df[\"src_bytes\"],\n",
        "    hue=df[\"cluster_label\"],\n",
        "    palette={\"normal\": \"blue\", \"malicious\": \"red\"},\n",
        "    s=60\n",
        ")\n",
        "\n",
        "# Show centroids (in original scale)\n",
        "centroids_original = scaler.inverse_transform(centroids)\n",
        "plt.scatter(\n",
        "    centroids_original[:, 0],\n",
        "    centroids_original[:, 1],\n",
        "    c='black',\n",
        "    s=200,\n",
        "    marker='X',\n",
        "    edgecolors='white',\n",
        "    label='Centroids'\n",
        ")\n",
        "\n",
        "# Plot formatting\n",
        "plt.title(\"K-Means Clustering: Normal vs Malicious Behavior\")\n",
        "plt.xlabel(\"Login Attempts\")\n",
        "plt.ylabel(\"Source Bytes Transferred\")\n",
        "plt.legend()\n",
        "plt.grid(True)\n",
        "plt.show()"
      ]
    }
  ]
}